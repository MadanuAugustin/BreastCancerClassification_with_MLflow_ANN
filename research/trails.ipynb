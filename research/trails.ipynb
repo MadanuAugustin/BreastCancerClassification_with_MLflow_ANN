{
 "cells": [
  {
   "cell_type": "code",
   "execution_count": 1,
   "metadata": {},
   "outputs": [],
   "source": [
    "import pandas as pd"
   ]
  },
  {
   "cell_type": "code",
   "execution_count": 2,
   "metadata": {},
   "outputs": [],
   "source": [
    "mydf = pd.read_csv('C:\\\\Users\\\\ajaym\\\\Desktop\\\\BreastCancer\\\\artifacts\\\\data_ingestion\\\\brca.csv')"
   ]
  },
  {
   "cell_type": "code",
   "execution_count": 3,
   "metadata": {},
   "outputs": [
    {
     "name": "stdout",
     "output_type": "stream",
     "text": [
      "<class 'pandas.core.frame.DataFrame'>\n",
      "RangeIndex: 569 entries, 0 to 568\n",
      "Data columns (total 32 columns):\n",
      " #   Column               Non-Null Count  Dtype  \n",
      "---  ------               --------------  -----  \n",
      " 0   Unnamed: 0           569 non-null    int64  \n",
      " 1   x.radius_mean        569 non-null    float64\n",
      " 2   x.texture_mean       569 non-null    float64\n",
      " 3   x.perimeter_mean     569 non-null    float64\n",
      " 4   x.area_mean          569 non-null    float64\n",
      " 5   x.smoothness_mean    569 non-null    float64\n",
      " 6   x.compactness_mean   569 non-null    float64\n",
      " 7   x.concavity_mean     569 non-null    float64\n",
      " 8   x.concave_pts_mean   569 non-null    float64\n",
      " 9   x.symmetry_mean      569 non-null    float64\n",
      " 10  x.fractal_dim_mean   569 non-null    float64\n",
      " 11  x.radius_se          569 non-null    float64\n",
      " 12  x.texture_se         569 non-null    float64\n",
      " 13  x.perimeter_se       569 non-null    float64\n",
      " 14  x.area_se            569 non-null    float64\n",
      " 15  x.smoothness_se      569 non-null    float64\n",
      " 16  x.compactness_se     569 non-null    float64\n",
      " 17  x.concavity_se       569 non-null    float64\n",
      " 18  x.concave_pts_se     569 non-null    float64\n",
      " 19  x.symmetry_se        569 non-null    float64\n",
      " 20  x.fractal_dim_se     569 non-null    float64\n",
      " 21  x.radius_worst       569 non-null    float64\n",
      " 22  x.texture_worst      569 non-null    float64\n",
      " 23  x.perimeter_worst    569 non-null    float64\n",
      " 24  x.area_worst         569 non-null    float64\n",
      " 25  x.smoothness_worst   569 non-null    float64\n",
      " 26  x.compactness_worst  569 non-null    float64\n",
      " 27  x.concavity_worst    569 non-null    float64\n",
      " 28  x.concave_pts_worst  569 non-null    float64\n",
      " 29  x.symmetry_worst     569 non-null    float64\n",
      " 30  x.fractal_dim_worst  569 non-null    float64\n",
      " 31  y                    569 non-null    object \n",
      "dtypes: float64(30), int64(1), object(1)\n",
      "memory usage: 142.4+ KB\n"
     ]
    }
   ],
   "source": [
    "mydf.info()"
   ]
  },
  {
   "cell_type": "code",
   "execution_count": 4,
   "metadata": {},
   "outputs": [
    {
     "data": {
      "text/html": [
       "<div>\n",
       "<style scoped>\n",
       "    .dataframe tbody tr th:only-of-type {\n",
       "        vertical-align: middle;\n",
       "    }\n",
       "\n",
       "    .dataframe tbody tr th {\n",
       "        vertical-align: top;\n",
       "    }\n",
       "\n",
       "    .dataframe thead th {\n",
       "        text-align: right;\n",
       "    }\n",
       "</style>\n",
       "<table border=\"1\" class=\"dataframe\">\n",
       "  <thead>\n",
       "    <tr style=\"text-align: right;\">\n",
       "      <th></th>\n",
       "      <th>Unnamed: 0</th>\n",
       "      <th>x.radius_mean</th>\n",
       "      <th>x.texture_mean</th>\n",
       "      <th>x.perimeter_mean</th>\n",
       "      <th>x.area_mean</th>\n",
       "      <th>x.smoothness_mean</th>\n",
       "      <th>x.compactness_mean</th>\n",
       "      <th>x.concavity_mean</th>\n",
       "      <th>x.concave_pts_mean</th>\n",
       "      <th>x.symmetry_mean</th>\n",
       "      <th>...</th>\n",
       "      <th>x.texture_worst</th>\n",
       "      <th>x.perimeter_worst</th>\n",
       "      <th>x.area_worst</th>\n",
       "      <th>x.smoothness_worst</th>\n",
       "      <th>x.compactness_worst</th>\n",
       "      <th>x.concavity_worst</th>\n",
       "      <th>x.concave_pts_worst</th>\n",
       "      <th>x.symmetry_worst</th>\n",
       "      <th>x.fractal_dim_worst</th>\n",
       "      <th>y</th>\n",
       "    </tr>\n",
       "  </thead>\n",
       "  <tbody>\n",
       "    <tr>\n",
       "      <th>0</th>\n",
       "      <td>1</td>\n",
       "      <td>13.54</td>\n",
       "      <td>14.36</td>\n",
       "      <td>87.46</td>\n",
       "      <td>566.3</td>\n",
       "      <td>0.09779</td>\n",
       "      <td>0.08129</td>\n",
       "      <td>0.06664</td>\n",
       "      <td>0.04781</td>\n",
       "      <td>0.1885</td>\n",
       "      <td>...</td>\n",
       "      <td>19.26</td>\n",
       "      <td>99.70</td>\n",
       "      <td>711.2</td>\n",
       "      <td>0.1440</td>\n",
       "      <td>0.1773</td>\n",
       "      <td>0.239</td>\n",
       "      <td>0.12880</td>\n",
       "      <td>0.2977</td>\n",
       "      <td>0.07259</td>\n",
       "      <td>B</td>\n",
       "    </tr>\n",
       "    <tr>\n",
       "      <th>1</th>\n",
       "      <td>2</td>\n",
       "      <td>13.08</td>\n",
       "      <td>15.71</td>\n",
       "      <td>85.63</td>\n",
       "      <td>520.0</td>\n",
       "      <td>0.10750</td>\n",
       "      <td>0.12700</td>\n",
       "      <td>0.04568</td>\n",
       "      <td>0.03110</td>\n",
       "      <td>0.1967</td>\n",
       "      <td>...</td>\n",
       "      <td>20.49</td>\n",
       "      <td>96.09</td>\n",
       "      <td>630.5</td>\n",
       "      <td>0.1312</td>\n",
       "      <td>0.2776</td>\n",
       "      <td>0.189</td>\n",
       "      <td>0.07283</td>\n",
       "      <td>0.3184</td>\n",
       "      <td>0.08183</td>\n",
       "      <td>B</td>\n",
       "    </tr>\n",
       "  </tbody>\n",
       "</table>\n",
       "<p>2 rows × 32 columns</p>\n",
       "</div>"
      ],
      "text/plain": [
       "   Unnamed: 0  x.radius_mean  x.texture_mean  x.perimeter_mean  x.area_mean  \\\n",
       "0           1          13.54           14.36             87.46        566.3   \n",
       "1           2          13.08           15.71             85.63        520.0   \n",
       "\n",
       "   x.smoothness_mean  x.compactness_mean  x.concavity_mean  \\\n",
       "0            0.09779             0.08129           0.06664   \n",
       "1            0.10750             0.12700           0.04568   \n",
       "\n",
       "   x.concave_pts_mean  x.symmetry_mean  ...  x.texture_worst  \\\n",
       "0             0.04781           0.1885  ...            19.26   \n",
       "1             0.03110           0.1967  ...            20.49   \n",
       "\n",
       "   x.perimeter_worst  x.area_worst  x.smoothness_worst  x.compactness_worst  \\\n",
       "0              99.70         711.2              0.1440               0.1773   \n",
       "1              96.09         630.5              0.1312               0.2776   \n",
       "\n",
       "   x.concavity_worst  x.concave_pts_worst  x.symmetry_worst  \\\n",
       "0              0.239              0.12880            0.2977   \n",
       "1              0.189              0.07283            0.3184   \n",
       "\n",
       "   x.fractal_dim_worst  y  \n",
       "0              0.07259  B  \n",
       "1              0.08183  B  \n",
       "\n",
       "[2 rows x 32 columns]"
      ]
     },
     "execution_count": 4,
     "metadata": {},
     "output_type": "execute_result"
    }
   ],
   "source": [
    "mydf.head(2)"
   ]
  },
  {
   "cell_type": "code",
   "execution_count": 5,
   "metadata": {},
   "outputs": [
    {
     "data": {
      "text/plain": [
       "array(['B', 'M'], dtype=object)"
      ]
     },
     "execution_count": 5,
     "metadata": {},
     "output_type": "execute_result"
    }
   ],
   "source": [
    "mydf.y.unique()"
   ]
  },
  {
   "cell_type": "code",
   "execution_count": null,
   "metadata": {},
   "outputs": [],
   "source": []
  },
  {
   "cell_type": "code",
   "execution_count": null,
   "metadata": {},
   "outputs": [],
   "source": []
  }
 ],
 "metadata": {
  "kernelspec": {
   "display_name": "Python 3",
   "language": "python",
   "name": "python3"
  },
  "language_info": {
   "codemirror_mode": {
    "name": "ipython",
    "version": 3
   },
   "file_extension": ".py",
   "mimetype": "text/x-python",
   "name": "python",
   "nbconvert_exporter": "python",
   "pygments_lexer": "ipython3",
   "version": "3.12.0"
  }
 },
 "nbformat": 4,
 "nbformat_minor": 2
}
